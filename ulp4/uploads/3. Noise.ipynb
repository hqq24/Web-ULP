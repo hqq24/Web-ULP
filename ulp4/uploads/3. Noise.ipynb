{
 "cells": [
  {
   "cell_type": "code",
   "execution_count": 3,
   "metadata": {
    "slideshow": {
     "slide_type": "-"
    }
   },
   "outputs": [
    {
     "name": "stdout",
     "output_type": "stream",
     "text": [
      "Number of instances = 699\n",
      "Number of attributes = 10\n"
     ]
    },
    {
     "data": {
      "text/html": [
       "<div>\n",
       "<style scoped>\n",
       "    .dataframe tbody tr th:only-of-type {\n",
       "        vertical-align: middle;\n",
       "    }\n",
       "\n",
       "    .dataframe tbody tr th {\n",
       "        vertical-align: top;\n",
       "    }\n",
       "\n",
       "    .dataframe thead th {\n",
       "        text-align: right;\n",
       "    }\n",
       "</style>\n",
       "<table border=\"1\" class=\"dataframe\">\n",
       "  <thead>\n",
       "    <tr style=\"text-align: right;\">\n",
       "      <th></th>\n",
       "      <th>Clump Thickness</th>\n",
       "      <th>Uniformity of Cell Size</th>\n",
       "      <th>Uniformity of Cell Shape</th>\n",
       "      <th>Marginal Adhesion</th>\n",
       "      <th>Single Epithelial Cell Size</th>\n",
       "      <th>Bare Nuclei</th>\n",
       "      <th>Bland Chromatin</th>\n",
       "      <th>Normal Nucleoli</th>\n",
       "      <th>Mitoses</th>\n",
       "      <th>Class</th>\n",
       "    </tr>\n",
       "  </thead>\n",
       "  <tbody>\n",
       "    <tr>\n",
       "      <th>0</th>\n",
       "      <td>5</td>\n",
       "      <td>1</td>\n",
       "      <td>1</td>\n",
       "      <td>1</td>\n",
       "      <td>2</td>\n",
       "      <td>1</td>\n",
       "      <td>3</td>\n",
       "      <td>1</td>\n",
       "      <td>1</td>\n",
       "      <td>2</td>\n",
       "    </tr>\n",
       "    <tr>\n",
       "      <th>1</th>\n",
       "      <td>5</td>\n",
       "      <td>4</td>\n",
       "      <td>4</td>\n",
       "      <td>5</td>\n",
       "      <td>7</td>\n",
       "      <td>10</td>\n",
       "      <td>3</td>\n",
       "      <td>2</td>\n",
       "      <td>1</td>\n",
       "      <td>2</td>\n",
       "    </tr>\n",
       "    <tr>\n",
       "      <th>2</th>\n",
       "      <td>3</td>\n",
       "      <td>1</td>\n",
       "      <td>1</td>\n",
       "      <td>1</td>\n",
       "      <td>2</td>\n",
       "      <td>2</td>\n",
       "      <td>3</td>\n",
       "      <td>1</td>\n",
       "      <td>1</td>\n",
       "      <td>2</td>\n",
       "    </tr>\n",
       "    <tr>\n",
       "      <th>3</th>\n",
       "      <td>6</td>\n",
       "      <td>8</td>\n",
       "      <td>8</td>\n",
       "      <td>1</td>\n",
       "      <td>3</td>\n",
       "      <td>4</td>\n",
       "      <td>3</td>\n",
       "      <td>7</td>\n",
       "      <td>1</td>\n",
       "      <td>2</td>\n",
       "    </tr>\n",
       "    <tr>\n",
       "      <th>4</th>\n",
       "      <td>4</td>\n",
       "      <td>1</td>\n",
       "      <td>1</td>\n",
       "      <td>3</td>\n",
       "      <td>2</td>\n",
       "      <td>1</td>\n",
       "      <td>3</td>\n",
       "      <td>1</td>\n",
       "      <td>1</td>\n",
       "      <td>2</td>\n",
       "    </tr>\n",
       "  </tbody>\n",
       "</table>\n",
       "</div>"
      ],
      "text/plain": [
       "   Clump Thickness  Uniformity of Cell Size  Uniformity of Cell Shape  \\\n",
       "0                5                        1                         1   \n",
       "1                5                        4                         4   \n",
       "2                3                        1                         1   \n",
       "3                6                        8                         8   \n",
       "4                4                        1                         1   \n",
       "\n",
       "   Marginal Adhesion  Single Epithelial Cell Size Bare Nuclei  \\\n",
       "0                  1                            2           1   \n",
       "1                  5                            7          10   \n",
       "2                  1                            2           2   \n",
       "3                  1                            3           4   \n",
       "4                  3                            2           1   \n",
       "\n",
       "   Bland Chromatin  Normal Nucleoli  Mitoses  Class  \n",
       "0                3                1        1      2  \n",
       "1                3                2        1      2  \n",
       "2                3                1        1      2  \n",
       "3                3                7        1      2  \n",
       "4                3                1        1      2  "
      ]
     },
     "execution_count": 3,
     "metadata": {},
     "output_type": "execute_result"
    }
   ],
   "source": [
    "#http://www.cse.msu.edu/~ptan/dmbook/tutorials/tutorial4/tutorial4.html\n",
    "#load dataset breast cancer\n",
    "\n",
    "import pandas as pd\n",
    "data = pd.read_csv('https://archive.ics.uci.edu/ml/machine-learning-databases/breast-cancer-wisconsin/breast-cancer-wisconsin.data', header=None)\n",
    "data.columns = ['Sample code', 'Clump Thickness', 'Uniformity of Cell Size', 'Uniformity of Cell Shape',\n",
    "                'Marginal Adhesion', 'Single Epithelial Cell Size', 'Bare Nuclei', 'Bland Chromatin',\n",
    "                'Normal Nucleoli', 'Mitoses','Class']\n",
    "\n",
    "data = data.drop(['Sample code'],axis=1)\n",
    "print('Number of instances = %d' % (data.shape[0]))\n",
    "print('Number of attributes = %d' % (data.shape[1]))\n",
    "data.head()"
   ]
  },
  {
   "cell_type": "code",
   "execution_count": 9,
   "metadata": {},
   "outputs": [
    {
     "name": "stdout",
     "output_type": "stream",
     "text": [
      "<class 'pandas.core.frame.DataFrame'>\n",
      "RangeIndex: 699 entries, 0 to 698\n",
      "Data columns (total 10 columns):\n",
      " #   Column                       Non-Null Count  Dtype \n",
      "---  ------                       --------------  ----- \n",
      " 0   Clump Thickness              699 non-null    int64 \n",
      " 1   Uniformity of Cell Size      699 non-null    int64 \n",
      " 2   Uniformity of Cell Shape     699 non-null    int64 \n",
      " 3   Marginal Adhesion            699 non-null    int64 \n",
      " 4   Single Epithelial Cell Size  699 non-null    int64 \n",
      " 5   Bare Nuclei                  699 non-null    object\n",
      " 6   Bland Chromatin              699 non-null    int64 \n",
      " 7   Normal Nucleoli              699 non-null    int64 \n",
      " 8   Mitoses                      699 non-null    int64 \n",
      " 9   Class                        699 non-null    int64 \n",
      "dtypes: int64(9), object(1)\n",
      "memory usage: 54.7+ KB\n"
     ]
    }
   ],
   "source": [
    "data.info()"
   ]
  },
  {
   "cell_type": "code",
   "execution_count": 11,
   "metadata": {},
   "outputs": [
    {
     "name": "stdout",
     "output_type": "stream",
     "text": [
      "Number of instances = 699\n",
      "Number of attributes = 10\n",
      "Number of missing values:\n",
      "\tClump Thickness: 0\n",
      "\tUniformity of Cell Size: 0\n",
      "\tUniformity of Cell Shape: 0\n",
      "\tMarginal Adhesion: 0\n",
      "\tSingle Epithelial Cell Size: 0\n",
      "\tBare Nuclei: 16\n",
      "\tBland Chromatin: 0\n",
      "\tNormal Nucleoli: 0\n",
      "\tMitoses: 0\n",
      "\tClass: 0\n"
     ]
    }
   ],
   "source": [
    "#http://www.cse.msu.edu/~ptan/dmbook/tutorials/tutorial4/tutorial4.html\n",
    "import numpy as np\n",
    "\n",
    "data = data.replace('?',np.NaN)\n",
    "print('Number of instances = %d' % (data.shape[0]))\n",
    "print('Number of attributes = %d' % (data.shape[1]))\n",
    "\n",
    "print('Number of missing values:')\n",
    "for col in data.columns:\n",
    "    print('\\t%s: %d' % (col,data[col].isnull().sum()))"
   ]
  },
  {
   "cell_type": "code",
   "execution_count": 14,
   "metadata": {},
   "outputs": [
    {
     "name": "stdout",
     "output_type": "stream",
     "text": [
      "Number of missing values:\n",
      "\tClump Thickness: 0\n",
      "\tUniformity of Cell Size: 0\n",
      "\tUniformity of Cell Shape: 0\n",
      "\tMarginal Adhesion: 0\n",
      "\tSingle Epithelial Cell Size: 0\n",
      "\tBare Nuclei: 0\n",
      "\tBland Chromatin: 0\n",
      "\tNormal Nucleoli: 0\n",
      "\tMitoses: 0\n",
      "\tClass: 0\n"
     ]
    }
   ],
   "source": [
    "data = data.fillna(data.median())\n",
    "\n",
    "print('Number of missing values:')\n",
    "for col in data.columns:\n",
    "    print('\\t%s: %d' % (col,data[col].isnull().sum()))"
   ]
  },
  {
   "cell_type": "code",
   "execution_count": 25,
   "metadata": {},
   "outputs": [
    {
     "data": {
      "text/plain": [
       "<matplotlib.axes._subplots.AxesSubplot at 0x2089ae36b08>"
      ]
     },
     "execution_count": 25,
     "metadata": {},
     "output_type": "execute_result"
    },
    {
     "data": {
      "image/png": "[encoded data removed]",
      "text/plain": [
       "<Figure size 1440x216 with 1 Axes>"
      ]
     },
     "metadata": {
      "needs_background": "light"
     },
     "output_type": "display_data"
    }
   ],
   "source": [
    "#http://www.cse.msu.edu/~ptan/dmbook/tutorials/tutorial4/tutorial4.html\n",
    "#deteksi outlier atau noise using boxplot\n",
    "\n",
    "%matplotlib inline\n",
    "\n",
    "data2 = data.drop(['Class'],axis=1)\n",
    "data2.boxplot(figsize=(20,3))"
   ]
  },
  {
   "cell_type": "markdown",
   "metadata": {
    "slideshow": {
     "slide_type": "slide"
    }
   },
   "source": [
    "http://www.cse.msu.edu/~ptan/dmbook/tutorials/tutorial4/tutorial4.html\n",
    "\n",
    "The boxplots suggest that only 5 of the columns (Marginal Adhesion, Single Epithetial Cell Size, Bland Cromatin, Normal Nucleoli, and Mitoses) contain abnormally high values. To discard the outliers, we can compute the Z-score for each attribute and remove those instances containing attributes with abnormally high or low Z-score (e.g., if Z > 3 or Z <= -3).\n"
   ]
  },
  {
   "cell_type": "code",
   "execution_count": 26,
   "metadata": {},
   "outputs": [
    {
     "data": {
      "text/html": [
       "<div>\n",
       "<style scoped>\n",
       "    .dataframe tbody tr th:only-of-type {\n",
       "        vertical-align: middle;\n",
       "    }\n",
       "\n",
       "    .dataframe tbody tr th {\n",
       "        vertical-align: top;\n",
       "    }\n",
       "\n",
       "    .dataframe thead th {\n",
       "        text-align: right;\n",
       "    }\n",
       "</style>\n",
       "<table border=\"1\" class=\"dataframe\">\n",
       "  <thead>\n",
       "    <tr style=\"text-align: right;\">\n",
       "      <th></th>\n",
       "      <th>Clump Thickness</th>\n",
       "      <th>Uniformity of Cell Size</th>\n",
       "      <th>Uniformity of Cell Shape</th>\n",
       "      <th>Marginal Adhesion</th>\n",
       "      <th>Single Epithelial Cell Size</th>\n",
       "      <th>Bare Nuclei</th>\n",
       "      <th>Bland Chromatin</th>\n",
       "      <th>Normal Nucleoli</th>\n",
       "      <th>Mitoses</th>\n",
       "    </tr>\n",
       "  </thead>\n",
       "  <tbody>\n",
       "    <tr>\n",
       "      <th>0</th>\n",
       "      <td>0.206788</td>\n",
       "      <td>-0.699494</td>\n",
       "      <td>-0.742767</td>\n",
       "      <td>-0.632794</td>\n",
       "      <td>-0.549168</td>\n",
       "      <td>-0.686488</td>\n",
       "      <td>-0.179534</td>\n",
       "      <td>-0.611387</td>\n",
       "      <td>-0.343666</td>\n",
       "    </tr>\n",
       "    <tr>\n",
       "      <th>1</th>\n",
       "      <td>0.206788</td>\n",
       "      <td>0.283642</td>\n",
       "      <td>0.266684</td>\n",
       "      <td>0.768071</td>\n",
       "      <td>1.708882</td>\n",
       "      <td>1.798376</td>\n",
       "      <td>-0.179534</td>\n",
       "      <td>-0.283909</td>\n",
       "      <td>-0.343666</td>\n",
       "    </tr>\n",
       "    <tr>\n",
       "      <th>2</th>\n",
       "      <td>-0.503505</td>\n",
       "      <td>-0.699494</td>\n",
       "      <td>-0.742767</td>\n",
       "      <td>-0.632794</td>\n",
       "      <td>-0.549168</td>\n",
       "      <td>-0.410392</td>\n",
       "      <td>-0.179534</td>\n",
       "      <td>-0.611387</td>\n",
       "      <td>-0.343666</td>\n",
       "    </tr>\n",
       "    <tr>\n",
       "      <th>3</th>\n",
       "      <td>0.561934</td>\n",
       "      <td>1.594490</td>\n",
       "      <td>1.612618</td>\n",
       "      <td>-0.632794</td>\n",
       "      <td>-0.097558</td>\n",
       "      <td>0.141800</td>\n",
       "      <td>-0.179534</td>\n",
       "      <td>1.353485</td>\n",
       "      <td>-0.343666</td>\n",
       "    </tr>\n",
       "    <tr>\n",
       "      <th>4</th>\n",
       "      <td>-0.148359</td>\n",
       "      <td>-0.699494</td>\n",
       "      <td>-0.742767</td>\n",
       "      <td>0.067638</td>\n",
       "      <td>-0.549168</td>\n",
       "      <td>-0.686488</td>\n",
       "      <td>-0.179534</td>\n",
       "      <td>-0.611387</td>\n",
       "      <td>-0.343666</td>\n",
       "    </tr>\n",
       "    <tr>\n",
       "      <th>5</th>\n",
       "      <td>1.272227</td>\n",
       "      <td>2.249915</td>\n",
       "      <td>2.285586</td>\n",
       "      <td>1.818719</td>\n",
       "      <td>1.708882</td>\n",
       "      <td>1.798376</td>\n",
       "      <td>2.281132</td>\n",
       "      <td>1.353485</td>\n",
       "      <td>-0.343666</td>\n",
       "    </tr>\n",
       "    <tr>\n",
       "      <th>6</th>\n",
       "      <td>-1.213798</td>\n",
       "      <td>-0.699494</td>\n",
       "      <td>-0.742767</td>\n",
       "      <td>-0.632794</td>\n",
       "      <td>-0.549168</td>\n",
       "      <td>1.798376</td>\n",
       "      <td>-0.179534</td>\n",
       "      <td>-0.611387</td>\n",
       "      <td>-0.343666</td>\n",
       "    </tr>\n",
       "    <tr>\n",
       "      <th>7</th>\n",
       "      <td>-0.858651</td>\n",
       "      <td>-0.699494</td>\n",
       "      <td>-0.406284</td>\n",
       "      <td>-0.632794</td>\n",
       "      <td>-0.549168</td>\n",
       "      <td>-0.686488</td>\n",
       "      <td>-0.179534</td>\n",
       "      <td>-0.611387</td>\n",
       "      <td>-0.343666</td>\n",
       "    </tr>\n",
       "    <tr>\n",
       "      <th>8</th>\n",
       "      <td>-0.858651</td>\n",
       "      <td>-0.699494</td>\n",
       "      <td>-0.742767</td>\n",
       "      <td>-0.632794</td>\n",
       "      <td>-0.549168</td>\n",
       "      <td>-0.686488</td>\n",
       "      <td>-0.999756</td>\n",
       "      <td>-0.611387</td>\n",
       "      <td>1.988590</td>\n",
       "    </tr>\n",
       "    <tr>\n",
       "      <th>9</th>\n",
       "      <td>-0.148359</td>\n",
       "      <td>-0.371782</td>\n",
       "      <td>-0.742767</td>\n",
       "      <td>-0.632794</td>\n",
       "      <td>-0.549168</td>\n",
       "      <td>-0.686488</td>\n",
       "      <td>-0.589645</td>\n",
       "      <td>-0.611387</td>\n",
       "      <td>-0.343666</td>\n",
       "    </tr>\n",
       "  </tbody>\n",
       "</table>\n",
       "</div>"
      ],
      "text/plain": [
       "   Clump Thickness  Uniformity of Cell Size  Uniformity of Cell Shape  \\\n",
       "0         0.206788                -0.699494                 -0.742767   \n",
       "1         0.206788                 0.283642                  0.266684   \n",
       "2        -0.503505                -0.699494                 -0.742767   \n",
       "3         0.561934                 1.594490                  1.612618   \n",
       "4        -0.148359                -0.699494                 -0.742767   \n",
       "5         1.272227                 2.249915                  2.285586   \n",
       "6        -1.213798                -0.699494                 -0.742767   \n",
       "7        -0.858651                -0.699494                 -0.406284   \n",
       "8        -0.858651                -0.699494                 -0.742767   \n",
       "9        -0.148359                -0.371782                 -0.742767   \n",
       "\n",
       "   Marginal Adhesion  Single Epithelial Cell Size  Bare Nuclei  \\\n",
       "0          -0.632794                    -0.549168    -0.686488   \n",
       "1           0.768071                     1.708882     1.798376   \n",
       "2          -0.632794                    -0.549168    -0.410392   \n",
       "3          -0.632794                    -0.097558     0.141800   \n",
       "4           0.067638                    -0.549168    -0.686488   \n",
       "5           1.818719                     1.708882     1.798376   \n",
       "6          -0.632794                    -0.549168     1.798376   \n",
       "7          -0.632794                    -0.549168    -0.686488   \n",
       "8          -0.632794                    -0.549168    -0.686488   \n",
       "9          -0.632794                    -0.549168    -0.686488   \n",
       "\n",
       "   Bland Chromatin  Normal Nucleoli   Mitoses  \n",
       "0        -0.179534        -0.611387 -0.343666  \n",
       "1        -0.179534        -0.283909 -0.343666  \n",
       "2        -0.179534        -0.611387 -0.343666  \n",
       "3        -0.179534         1.353485 -0.343666  \n",
       "4        -0.179534        -0.611387 -0.343666  \n",
       "5         2.281132         1.353485 -0.343666  \n",
       "6        -0.179534        -0.611387 -0.343666  \n",
       "7        -0.179534        -0.611387 -0.343666  \n",
       "8        -0.999756        -0.611387  1.988590  \n",
       "9        -0.589645        -0.611387 -0.343666  "
      ]
     },
     "execution_count": 26,
     "metadata": {},
     "output_type": "execute_result"
    }
   ],
   "source": [
    "data2['Bare Nuclei'] = pd.to_numeric(data2['Bare Nuclei'])\n",
    "Z = (data2 - data2.mean())/data2.std()\n",
    "Z[:10]"
   ]
  },
  {
   "cell_type": "code",
   "execution_count": 27,
   "metadata": {},
   "outputs": [
    {
     "name": "stdout",
     "output_type": "stream",
     "text": [
      "Number of rows before discarding outliers = 699\n",
      "Number of rows after discarding outliers = 648\n"
     ]
    }
   ],
   "source": [
    "#http://www.cse.msu.edu/~ptan/dmbook/tutorials/tutorial4/tutorial4.html\n",
    "#hapus outlier\n",
    "\n",
    "print('Number of rows before discarding outliers = %d' % (Z.shape[0]))\n",
    "\n",
    "Z2 = Z.loc[((Z > -3).sum(axis=1)==9) & ((Z <= 3).sum(axis=1)==9),:]\n",
    "print('Number of rows after discarding outliers = %d' % (Z2.shape[0]))"
   ]
  },
  {
   "cell_type": "code",
   "execution_count": 28,
   "metadata": {},
   "outputs": [
    {
     "name": "stdout",
     "output_type": "stream",
     "text": [
      "(699, 8)\n",
      "(677, 8)\n"
     ]
    }
   ],
   "source": [
    "#cleaning outlier/noise data using k-means\n",
    "\n",
    "import matplotlib.pyplot as plt\n",
    "import pandas as pd\n",
    "import numpy as np\n",
    "from sklearn.cluster import KMeans\n",
    "\n",
    "nclust = 30\n",
    "X = data2.values[:,:-1]\n",
    "\n",
    "#Proses K-Means\n",
    "kmeans = KMeans(n_clusters=nclust).fit(X)\n",
    "labels = kmeans.labels_\n",
    "print(X.shape)\n",
    "# Proses Penghapusan data\n",
    "for i in range(0, nclust):\n",
    "    count = np.count_nonzero(labels == i)\n",
    "    if count <= 5:\n",
    "        indexDelete = np.where(labels == i)\n",
    "        X = np.delete(X, indexDelete, axis=0)\n",
    "        labels = np.delete(labels, indexDelete, axis=0)\n",
    "        \n",
    "print(X.shape)"
   ]
  },
  {
   "cell_type": "code",
   "execution_count": 34,
   "metadata": {},
   "outputs": [
    {
     "data": {
      "image/png": "[encoded data removed]",
      "text/plain": [
       "<Figure size 432x288 with 1 Axes>"
      ]
     },
     "metadata": {
      "needs_background": "light"
     },
     "output_type": "display_data"
    },
    {
     "data": {
      "image/png": "[encoded data removed]",
      "text/plain": [
       "<Figure size 432x288 with 1 Axes>"
      ]
     },
     "metadata": {
      "needs_background": "light"
     },
     "output_type": "display_data"
    }
   ],
   "source": [
    "#cleaning noise data using k-means\n",
    "\n",
    "import matplotlib\n",
    "import matplotlib.pyplot as plt\n",
    "import pandas as pd\n",
    "import numpy as np\n",
    "from sklearn.cluster import KMeans\n",
    "from sklearn.datasets import make_blobs\n",
    "\n",
    "d = pd.read_csv(\"./dataset_noise.csv\", index_col=0)\n",
    "dataset = d.values\n",
    "\n",
    "plt.scatter(dataset[:, 0], dataset[:, 1], marker='o')\n",
    "plt.show()\n",
    "\n",
    "nclust = 11\n",
    "\n",
    "#Proses K-Means\n",
    "dataset = d.values\n",
    "kmeans = KMeans(n_clusters=nclust).fit(dataset)\n",
    "labels = kmeans.labels_\n",
    "\n",
    "#plt.scatter(dataset[:, 0], dataset[:, 1], marker='o', c=labels)\n",
    "#plt.show()\n",
    "\n",
    "# Proses Penghapusan data\n",
    "for i in range(0, nclust):\n",
    "    count = np.count_nonzero(labels == i)\n",
    "    if count <= 3:\n",
    "        indexDelete = np.where(labels == i)\n",
    "        dataset = np.delete(dataset, indexDelete, axis=0)\n",
    "        labels = np.delete(labels, indexDelete, axis=0)\n",
    "\n",
    "kmeans_after = KMeans(n_clusters=3).fit(dataset)\n",
    "labels_after = kmeans_after.labels_\n",
    "        \n",
    "plt.scatter(dataset[:, 0], dataset[:, 1], marker='o', c=labels_after)\n",
    "plt.show()"
   ]
  },
  {
   "cell_type": "code",
   "execution_count": 29,
   "metadata": {},
   "outputs": [
    {
     "name": "stdout",
     "output_type": "stream",
     "text": [
      "Number of duplicate rows = 242\n",
      "Number of rows before discarding duplicates = 699\n",
      "Number of rows after discarding duplicates = 699\n"
     ]
    }
   ],
   "source": [
    "#remove duplicate data\n",
    "\n",
    "dups = data2.duplicated()\n",
    "print('Number of duplicate rows = %d' % (dups.sum()))\n",
    "\n",
    "print('Number of rows before discarding duplicates = %d' % (data2.shape[0]))\n",
    "data3 = data2.drop_duplicates()\n",
    "print('Number of rows after discarding duplicates = %d' % (data2.shape[0]))"
   ]
  },
  {
   "cell_type": "code",
   "execution_count": 30,
   "metadata": {},
   "outputs": [
    {
     "data": {
      "text/plain": [
       "1     52\n",
       "2     24\n",
       "3     58\n",
       "4     47\n",
       "5     95\n",
       "6     30\n",
       "7     23\n",
       "8     46\n",
       "9     13\n",
       "10    69\n",
       "Name: Clump Thickness, dtype: int64"
      ]
     },
     "execution_count": 30,
     "metadata": {},
     "output_type": "execute_result"
    },
    {
     "data": {
      "image/png": "[encoded data removed]",
      "text/plain": [
       "<Figure size 432x288 with 1 Axes>"
      ]
     },
     "metadata": {
      "needs_background": "light"
     },
     "output_type": "display_data"
    }
   ],
   "source": [
    "#http://www.cse.msu.edu/~ptan/dmbook/tutorials/tutorial4/tutorial4.html\n",
    "#partition into (equal-frequency) bins\n",
    "\n",
    "data3['Clump Thickness'].hist(bins=10)\n",
    "data3['Clump Thickness'].value_counts(sort=False)"
   ]
  },
  {
   "cell_type": "code",
   "execution_count": 31,
   "metadata": {},
   "outputs": [
    {
     "data": {
      "text/plain": [
       "(0.991, 3.25]    134\n",
       "(3.25, 5.5]      142\n",
       "(5.5, 7.75]       53\n",
       "(7.75, 10.0]     128\n",
       "Name: Clump Thickness, dtype: int64"
      ]
     },
     "execution_count": 31,
     "metadata": {},
     "output_type": "execute_result"
    }
   ],
   "source": [
    "#http://www.cse.msu.edu/~ptan/dmbook/tutorials/tutorial4/tutorial4.html\n",
    "#smoothing using binning equal width method using function cut\n",
    "\n",
    "bins = pd.cut(data3['Clump Thickness'],4)\n",
    "bins.value_counts(sort=False)"
   ]
  },
  {
   "cell_type": "code",
   "execution_count": 32,
   "metadata": {},
   "outputs": [
    {
     "data": {
      "text/plain": [
       "(0.999, 3.0]    134\n",
       "(3.0, 5.0]      142\n",
       "(5.0, 8.0]       99\n",
       "(8.0, 10.0]      82\n",
       "Name: Clump Thickness, dtype: int64"
      ]
     },
     "execution_count": 32,
     "metadata": {},
     "output_type": "execute_result"
    }
   ],
   "source": [
    "#http://www.cse.msu.edu/~ptan/dmbook/tutorials/tutorial4/tutorial4.html\n",
    "#smoothing using binning equal frequency method using function qcut\n",
    "\n",
    "bins = pd.qcut(data3['Clump Thickness'],4)\n",
    "bins.value_counts(sort=False)"
   ]
  },
  {
   "cell_type": "code",
   "execution_count": 35,
   "metadata": {},
   "outputs": [
    {
     "name": "stdout",
     "output_type": "stream",
     "text": [
      "Original dataset:\n",
      "[[5.1 3.5 1.4 0.2]\n",
      " [4.9 3.  1.4 0.2]\n",
      " [4.7 3.2 1.3 0.2]\n",
      " [4.6 3.1 1.5 0.2]\n",
      " [5.  3.6 1.4 0.2]]\n",
      "Discretized dataset:\n",
      "[[0. 2. 0. 0.]\n",
      " [0. 1. 0. 0.]\n",
      " [0. 1. 0. 0.]\n",
      " [0. 1. 0. 0.]\n",
      " [0. 2. 0. 0.]]\n",
      "Feature: sepal width (cm)\n",
      "Interval cut-points: [2.95, 3.3499999999999996]\n",
      "Bin descriptions: {0: '-inf_to_2.95', 1: '2.95_to_3.3499999999999996', 2: '3.3499999999999996_to_inf'}\n"
     ]
    },
    {
     "name": "stderr",
     "output_type": "stream",
     "text": [
      "C:\\Users\\chast\\OneDrive\\Documents\\notebook_DM\\MDLP.py:171: RuntimeWarning: invalid value encountered in greater\n",
      "  mask = np.logical_and((self._boundaries[:, feature_idx] > range_min), (self._boundaries[:, feature_idx] < range_max))\n",
      "C:\\Users\\chast\\OneDrive\\Documents\\notebook_DM\\MDLP.py:171: RuntimeWarning: invalid value encountered in less\n",
      "  mask = np.logical_and((self._boundaries[:, feature_idx] > range_min), (self._boundaries[:, feature_idx] < range_max))\n"
     ]
    }
   ],
   "source": [
    "# kode sumber: https://github.com/navicto/Discretization-MDLPC\n",
    "# Reference Entropy-based binning: Irani, Keki B. \"Multi-interval discretization of continuous-valued attributes for classiﬁcation learning.\" (1993).\n",
    "\n",
    "import numpy as np\n",
    "from sklearn import datasets\n",
    "from MDLP import MDLP_Discretizer\n",
    "\n",
    "#read dataset\n",
    "dataset = datasets.load_iris()\n",
    "X, y = dataset['data'], dataset['target']\n",
    "feature_names, class_names = dataset['feature_names'], dataset['target_names']\n",
    "numeric_features = np.arange(X.shape[1])  \n",
    "# all fetures in this dataset are numeric. These will be discretized\n",
    "\n",
    "#Initialize discretizer object and fit to dataset\n",
    "discretizer = MDLP_Discretizer(features=numeric_features)\n",
    "discretizer.fit(X, y)\n",
    "X_discretized = discretizer.transform(X)\n",
    "\n",
    "#Print a slice of original and discretized data\n",
    "print ('Original dataset:\\n%s' % str(X[0:5]))\n",
    "print ('Discretized dataset:\\n%s' % str(X_discretized[0:5]))\n",
    "\n",
    "#see how feature 1 was discretized\n",
    "print ('Feature: %s' % feature_names[1])\n",
    "print ('Interval cut-points: %s' % str(discretizer._cuts[1]))\n",
    "print ('Bin descriptions: %s' % str(discretizer._bin_descriptions[1]))"
   ]
  },
  {
   "cell_type": "code",
   "execution_count": null,
   "metadata": {},
   "outputs": [],
   "source": []
  }
 ],
 "metadata": {
  "celltoolbar": "Slideshow",
  "kernelspec": {
   "display_name": "Python 3",
   "language": "python",
   "name": "python3"
  },
  "language_info": {
   "codemirror_mode": {
    "name": "ipython",
    "version": 3
   },
   "file_extension": ".py",
   "mimetype": "text/x-python",
   "name": "python",
   "nbconvert_exporter": "python",
   "pygments_lexer": "ipython3",
   "version": "3.7.6"
  }
 },
 "nbformat": 4,
 "nbformat_minor": 2
}
